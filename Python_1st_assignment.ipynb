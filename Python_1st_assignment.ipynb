{
  "nbformat": 4,
  "nbformat_minor": 0,
  "metadata": {
    "colab": {
      "provenance": []
    },
    "kernelspec": {
      "name": "python3",
      "display_name": "Python 3"
    },
    "language_info": {
      "name": "python"
    }
  },
  "cells": [
    {
      "cell_type": "markdown",
      "source": [
        "# Python Basics Questions\n",
        "\n",
        "1. What is Python, and why is it popular?\n",
        "\n",
        "-> Python is a high-level, interpreted programming language known for its readability and simplicity. It's popular for several reasons:\n",
        "\n",
        "Easy to learn and use: Its syntax is clear and concise, making it a good choice for beginners.\n",
        "\n",
        "Versatile: It can be used for a wide range of tasks, including web development, data analysis, machine learning, scientific computing, and automation.\n",
        "\n",
        "Large and active community: This means there's a wealth of resources, libraries, and frameworks available, as well as plenty of support from other developers.\n",
        "\n",
        "Extensive libraries: Python has a vast collection of built-in and third-party libraries that extend its capabilities significantly.\n",
        "\n",
        "Platform independent: Python code can run on various operating systems without modification.\n",
        "\n",
        "2. What is an interpreter in Python\n",
        "\n",
        "-> In Python, an interpreter is a program that reads and executes Python code line by line\n",
        "\n",
        "3. What are pre-defined keywords in Python\n",
        "\n",
        "-> In Python, keywords are reserved words that have special meanings and purposes in the language.\n",
        "\n",
        "Some common examples of Python keywords include:\n",
        "\n",
        "if, elif, else: Used for conditional statements.\n",
        "for, while: Used for loops.\n",
        "def: Used to define functions.\n",
        "class: Used to define classes.\n",
        "import: Used to import modules.\n",
        "return: Used to return a value from a function.\n",
        "True, False, None: Represent boolean values and the absence of a value.\n",
        "\n",
        "4. Can keywords be used as variable names\n",
        "\n",
        "-> No, keywords cannot be used as variable names in Python\n",
        "\n",
        "   For example,:\n",
        "\n",
        "if = 10  # This will cause a SyntaxError\n",
        "\n",
        "5. What is mutability in Python?\n",
        "\n",
        "-> Mutability in Python refers to whether an object's state can be changed after it has been created.\n",
        "\n",
        "6. Why are lists mutable, but tuples are immutable\n",
        "\n",
        "-> Lists are mutalble because they are not meant to hold data that changes. Tuples are immutable because they are not meant to protect data from changed.\n",
        "\n",
        "7. What is the difference between “==” and “is” operators in Python?\n",
        "\n",
        "-> The == and is operators in Python are used for comparison, but they check for different things:\n",
        "\n",
        "  == (Equality Operator): This operator checks if the values of two objects are equal. It compares the content of the objects.\n",
        "\n",
        "  is (Identity Operator): This operator checks if two variables refer to the same object in memory. It compares the memory addresses of the objects.\n",
        "\n",
        "8. What are logical operators in Python?\n",
        "\n",
        "-> In Python, logical operators are used to combine conditional statements and evaluate boolean values (True or False). They are essential for controlling the flow of the  program based on multiple conditions.\n",
        "\n",
        "9. What is type casting in Python?\n",
        "\n",
        "-> Type casting (also known as type conversion) in Python is the process of converting an object from one data type to another.\n",
        "\n",
        "10. What is the difference between implicit and explicit type casting?\n",
        "\n",
        "-> Implicit type casting, also known as automatic type conversion, is done by the compiler automatically, without any intervention from the programmer.This usually happens when converting a smaller data type to a larger one (e.g., an int to a double), a process called widening.\n",
        "\n",
        "Explicit type casting, on the other hand, is done manually by the programmer using a special syntax. It is required when converting a larger data type to a smaller one (e.g., a double to an int), a process called narrowing.\n",
        "\n",
        "11. What is the purpose of conditional statements in Python?\n",
        "\n",
        "-> The purpose of conditional statements in Python is to allow the program to make decisions and execute different blocks of code based on whether a given condition is true or false.\n",
        "\n",
        "12. How does the elif statement work?\n",
        "\n",
        "-> The elif statement, short for \"else if,\" is a conditional statement in Python that works by checking a new condition only if the previous if or elif conditions were false.\n",
        "\n",
        "13. What is the difference between for and while loops?\n",
        "\n",
        "-> The key difference between for and while loops in Python is how they determine when to stop. A for loop is used for iterating over a sequence (like a list, tuple, string, or range) and will run a fixed number of times—once for each item in the sequence. A while loop, on the other hand, runs as long as a specified condition remains True.\n",
        "\n",
        "14. Describe a scenario where a while loop is more suitable than a for loop\n",
        "\n",
        "-> A while loop is more suitable than a for loop in scenarios where the number of iterations is not known in advance and the loop needs to continue until a specific condition is met.\n"
      ],
      "metadata": {
        "id": "sf2Ig9BrTWks"
      }
    },
    {
      "cell_type": "code",
      "source": [
        "#  Practical Questions\n",
        "\n",
        "#1. Write a Python program to print \"Hello, World!\n",
        "print(\"Hello, World!\")\n"
      ],
      "metadata": {
        "colab": {
          "base_uri": "https://localhost:8080/"
        },
        "id": "74a2Z_crUz5l",
        "outputId": "3afc0e80-6380-46ed-df07-9c654e65aa38"
      },
      "execution_count": null,
      "outputs": [
        {
          "output_type": "stream",
          "name": "stdout",
          "text": [
            "Hello, World!\n"
          ]
        }
      ]
    },
    {
      "cell_type": "code",
      "source": [
        "#2. Write a Python program that displays your name and age\n",
        "\n",
        "name= \"Anurag\"\n",
        "age= \"21\"\n",
        "print(f\"My name is {name} and age is  {age}\")\n"
      ],
      "metadata": {
        "colab": {
          "base_uri": "https://localhost:8080/"
        },
        "id": "yDmcorXM9AHa",
        "outputId": "c4dd0e23-e191-44ee-d9c2-dfd506935833"
      },
      "execution_count": null,
      "outputs": [
        {
          "output_type": "stream",
          "name": "stdout",
          "text": [
            "My name is Anurag and age is  21\n"
          ]
        }
      ]
    },
    {
      "cell_type": "code",
      "source": [
        "#3. Write code to print all the pre-defined keywords in Python using the keyword library\n",
        "\n",
        "import keyword\n",
        "print(keyword.kwlist)"
      ],
      "metadata": {
        "colab": {
          "base_uri": "https://localhost:8080/"
        },
        "id": "Q4Rn6yGL-G8W",
        "outputId": "f56e858d-3f88-4c46-8a40-adaf077039fc"
      },
      "execution_count": null,
      "outputs": [
        {
          "output_type": "stream",
          "name": "stdout",
          "text": [
            "['False', 'None', 'True', 'and', 'as', 'assert', 'async', 'await', 'break', 'class', 'continue', 'def', 'del', 'elif', 'else', 'except', 'finally', 'for', 'from', 'global', 'if', 'import', 'in', 'is', 'lambda', 'nonlocal', 'not', 'or', 'pass', 'raise', 'return', 'try', 'while', 'with', 'yield']\n"
          ]
        }
      ]
    },
    {
      "cell_type": "code",
      "source": [
        "#4. Write a program that checks if a given word is a Python keyword\n",
        "\n",
        "import keyword\n",
        "word = input(\"Enter a word: \")\n",
        "\n",
        "if keyword.iskeyword(word):\n",
        "    print(f\"'{word}' is a Python keyword.\")\n",
        "else:\n",
        "    print(f\"'{word}' is Not a Python keyword.\")"
      ],
      "metadata": {
        "colab": {
          "base_uri": "https://localhost:8080/"
        },
        "id": "LbdABvIG-jyU",
        "outputId": "6c0a8c37-7bf4-4084-dc8a-260055fa163c"
      },
      "execution_count": null,
      "outputs": [
        {
          "output_type": "stream",
          "name": "stdout",
          "text": [
            "Enter a word: what\n",
            "'what' is Not a Python keyword.\n"
          ]
        }
      ]
    },
    {
      "cell_type": "code",
      "source": [
        "#5. Create a list and tuple in Python, and demonstrate how attempting to change an element works differently for each\n",
        "\n",
        "my_list = [1, 2, 3]\n",
        "my_tuple = (1, 2, 3)\n",
        "\n",
        "my_list[0] = 100\n",
        "print(\"Modified List:\", my_list)\n"
      ],
      "metadata": {
        "colab": {
          "base_uri": "https://localhost:8080/"
        },
        "id": "PD2riA0JASqW",
        "outputId": "5017fe56-ff94-4f21-ce60-2426bcab48a1"
      },
      "execution_count": null,
      "outputs": [
        {
          "output_type": "stream",
          "name": "stdout",
          "text": [
            "Modified List: [100, 2, 3]\n"
          ]
        }
      ]
    },
    {
      "cell_type": "code",
      "source": [
        "#6. Write a function to demonstrate the behavior of mutable and immutable arguments.\n",
        "\n",
        "def modify_list(lst):\n",
        "    lst.append(10)\n",
        "\n",
        "def modify_number(num):\n",
        "    num += 10\n",
        "    return num\n",
        "\n",
        "my_list = [1, 2, 3]\n",
        "my_num = 5\n",
        "\n",
        "modify_list(my_list)\n",
        "new_num = modify_number(my_num)\n",
        "\n",
        "print(\"Modified list (mutable):\", my_list)\n",
        "print(\"Original number (immutable):\", my_num)\n",
        "print(\"Returned new number:\", new_num)\n"
      ],
      "metadata": {
        "colab": {
          "base_uri": "https://localhost:8080/"
        },
        "id": "B5VFu0HlAi-l",
        "outputId": "01322bdc-0c62-40c3-8efc-1645a22ef261"
      },
      "execution_count": null,
      "outputs": [
        {
          "output_type": "stream",
          "name": "stdout",
          "text": [
            "Modified list (mutable): [1, 2, 3, 10]\n",
            "Original number (immutable): 5\n",
            "Returned new number: 15\n"
          ]
        }
      ]
    },
    {
      "cell_type": "code",
      "source": [
        "#7. Write a program that performs basic arithmetic operations on two user-input numbers.\n",
        "\n",
        "num1=int(input(\"Enter the first number\"))\n",
        "num2=int(input(\"Enter the second number\"))\n",
        "print(\"Addition of two number :\",num1+num2)\n",
        "print(\"Subtraction of two number :\",num1-num2)\n",
        "print(\"Multiplication of two number :\",num1*num2)\n",
        "print(\"Division of two number :\",num1/num2)\n",
        "print(\"modulous of two number :\",num1%num2)\n",
        "print(\"Floor Division of two number :\",num1//num2)\n",
        "print(\"Exponential of two number :\",num1/num2)\n"
      ],
      "metadata": {
        "colab": {
          "base_uri": "https://localhost:8080/"
        },
        "id": "1_pFYuNsAyQc",
        "outputId": "18ad16bb-96ed-431b-b063-a38106387419"
      },
      "execution_count": null,
      "outputs": [
        {
          "output_type": "stream",
          "name": "stdout",
          "text": [
            "Enter the first number5\n",
            "Enter the second number4\n",
            "Addition of two number : 9\n",
            "Subtraction of two number : 1\n",
            "Multiplication of two number : 20\n",
            "Division of two number : 1.25\n",
            "modulous of two number : 1\n",
            "Floor Division of two number : 1\n",
            "Exponential of two number : 1.25\n"
          ]
        }
      ]
    },
    {
      "cell_type": "code",
      "source": [
        "#8 Write a program to demonstrate the use of logical operators\n",
        "num1=True\n",
        "num2=False\n",
        "print(\"logical Operator and :\",num1 and num2)\n",
        "print(\"logical Operator or :\",num1 or num2)\n",
        "print(\"logical Operator not :\",not num1 )\n"
      ],
      "metadata": {
        "colab": {
          "base_uri": "https://localhost:8080/"
        },
        "id": "cPJrGxvFEGwD",
        "outputId": "b8788b99-0f8b-46fd-eca9-edc88aec6196"
      },
      "execution_count": null,
      "outputs": [
        {
          "output_type": "stream",
          "name": "stdout",
          "text": [
            "logical Operator and : False\n",
            "logical Operator or : True\n",
            "logical Operator not : False\n"
          ]
        }
      ]
    },
    {
      "cell_type": "code",
      "source": [
        "#9 Write a Python program to convert user input from string to integer, float, and boolean types\n",
        "\n",
        "user_input = input(\"Enter something: \")\n",
        "\n",
        "int_val = int(user_input)\n",
        "float_val = float(user_input)\n",
        "bool_val = bool(user_input)\n",
        "\n",
        "print(\"Integer:\", int_val)\n",
        "print(\"Float:\", float_val)\n",
        "print(\"Boolean:\", bool_val)"
      ],
      "metadata": {
        "colab": {
          "base_uri": "https://localhost:8080/"
        },
        "id": "9dZj-2z_EeOZ",
        "outputId": "d1d109d5-022b-49e6-b3e7-a62c74258296"
      },
      "execution_count": null,
      "outputs": [
        {
          "output_type": "stream",
          "name": "stdout",
          "text": [
            "Enter something: 26\n",
            "Integer: 26\n",
            "Float: 26.0\n",
            "Boolean: True\n"
          ]
        }
      ]
    },
    {
      "cell_type": "code",
      "source": [
        "#10. Write code to demonstrate type casting with list elements\n",
        "\n",
        "numbers = [\"1\", \"2\", \"3\"]\n",
        "\n",
        "# Before casting\n",
        "print(\"Before:\", numbers)\n",
        "\n",
        "# After casting to integers\n",
        "for i in range(len(numbers)):\n",
        "    numbers[i] = int(numbers[i])\n",
        "\n",
        "print(\"After:\", numbers)"
      ],
      "metadata": {
        "colab": {
          "base_uri": "https://localhost:8080/"
        },
        "id": "8mbErRejOSM7",
        "outputId": "d2399a76-96b5-4391-f628-3f6da8bfa95f"
      },
      "execution_count": null,
      "outputs": [
        {
          "output_type": "stream",
          "name": "stdout",
          "text": [
            "Before: ['1', '2', '3']\n",
            "After: [1, 2, 3]\n"
          ]
        }
      ]
    },
    {
      "cell_type": "code",
      "source": [
        "#11 Write a program that checks if a number is positive, negative, or zero\n",
        "\n",
        "num = float(input(\"Enter a number: \"))\n",
        "\n",
        "if num > 0:\n",
        "    print(\"The number is positive.\")\n",
        "elif num < 0:\n",
        "    print(\"The number is negative.\")\n",
        "else:\n",
        "    print(\"The number is zero.\")"
      ],
      "metadata": {
        "colab": {
          "base_uri": "https://localhost:8080/"
        },
        "id": "vbtQFeamOcfS",
        "outputId": "a9c99534-517d-4f1c-d9fd-ecc1c29bcf70"
      },
      "execution_count": null,
      "outputs": [
        {
          "output_type": "stream",
          "name": "stdout",
          "text": [
            "Enter a number: 60\n",
            "The number is positive.\n"
          ]
        }
      ]
    },
    {
      "cell_type": "code",
      "source": [
        "#12 Write a for loop to print numbers from 1 to 10\n",
        "\n",
        "for i in range(1, 11):\n",
        "    print(i)"
      ],
      "metadata": {
        "colab": {
          "base_uri": "https://localhost:8080/"
        },
        "id": "kGFb0xQsOn3q",
        "outputId": "738202f4-971c-4111-c3be-c1d305c7be9e"
      },
      "execution_count": null,
      "outputs": [
        {
          "output_type": "stream",
          "name": "stdout",
          "text": [
            "1\n",
            "2\n",
            "3\n",
            "4\n",
            "5\n",
            "6\n",
            "7\n",
            "8\n",
            "9\n",
            "10\n"
          ]
        }
      ]
    },
    {
      "cell_type": "code",
      "source": [
        "#13 Write a Python program to find the sum of all even numbers between 1 and 50\n",
        "\n",
        "total = 0\n",
        "\n",
        "for i in range(1, 51):\n",
        "    if i % 2 == 0:\n",
        "        total += i\n",
        "\n",
        "print(\"Sum of even numbers between 1 and 50:\", total)\n",
        "\n"
      ],
      "metadata": {
        "colab": {
          "base_uri": "https://localhost:8080/"
        },
        "id": "ayCfF_sQO1lw",
        "outputId": "778215c4-bb5f-4c4a-f61f-3a20d5368383"
      },
      "execution_count": null,
      "outputs": [
        {
          "output_type": "stream",
          "name": "stdout",
          "text": [
            "Sum of even numbers between 1 and 50: 650\n"
          ]
        }
      ]
    },
    {
      "cell_type": "code",
      "source": [
        "#14 Write a program to reverse a string using a while loop\n",
        "\n",
        "text = \"hello\"\n",
        "reversed_text = \"\"\n",
        "i = len(text) - 1\n",
        "\n",
        "while i >= 0:\n",
        "    reversed_text += text[i]\n",
        "    i -= 1\n",
        "\n",
        "print(\"Reversed string:\", reversed_text)"
      ],
      "metadata": {
        "colab": {
          "base_uri": "https://localhost:8080/"
        },
        "id": "F128hQFkPAkv",
        "outputId": "e1835140-9477-4f95-953d-b9f97e0e2034"
      },
      "execution_count": null,
      "outputs": [
        {
          "output_type": "stream",
          "name": "stdout",
          "text": [
            "Reversed string: olleh\n"
          ]
        }
      ]
    },
    {
      "cell_type": "code",
      "source": [
        "#15 Write a Python program to calculate the factorial of a number provided by the user using a while loop\n",
        "\n",
        "num = int(input(\"Enter a number: \"))\n",
        "factorial = 1\n",
        "\n",
        "while num > 0:\n",
        "    factorial *= num\n",
        "    num -= 1\n",
        "\n",
        "print(\"Factorial:\", factorial)"
      ],
      "metadata": {
        "colab": {
          "base_uri": "https://localhost:8080/"
        },
        "id": "nvPW_ao1PLG3",
        "outputId": "b20813e7-aeed-49e4-be8b-e7e1613e1dca"
      },
      "execution_count": null,
      "outputs": [
        {
          "output_type": "stream",
          "name": "stdout",
          "text": [
            "Enter a number: 5\n",
            "Factorial: 120\n"
          ]
        }
      ]
    }
  ]
}